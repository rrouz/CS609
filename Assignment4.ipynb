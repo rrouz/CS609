{
 "cells": [
  {
   "cell_type": "code",
   "execution_count": 2,
   "id": "6a34d4e7",
   "metadata": {},
   "outputs": [
    {
     "ename": "ModuleNotFoundError",
     "evalue": "No module named 'pysam'",
     "output_type": "error",
     "traceback": [
      "\u001b[1;31m---------------------------------------------------------------------------\u001b[0m",
      "\u001b[1;31mModuleNotFoundError\u001b[0m                       Traceback (most recent call last)",
      "\u001b[1;32m<ipython-input-2-ebbfb89272ce>\u001b[0m in \u001b[0;36m<module>\u001b[1;34m\u001b[0m\n\u001b[1;32m----> 1\u001b[1;33m \u001b[1;32mimport\u001b[0m \u001b[0mpysam\u001b[0m\u001b[1;33m\u001b[0m\u001b[1;33m\u001b[0m\u001b[0m\n\u001b[0m\u001b[0;32m      2\u001b[0m \u001b[1;33m\u001b[0m\u001b[0m\n\u001b[0;32m      3\u001b[0m \u001b[1;31m# Open the VCF file for reading\u001b[0m\u001b[1;33m\u001b[0m\u001b[1;33m\u001b[0m\u001b[1;33m\u001b[0m\u001b[0m\n\u001b[0;32m      4\u001b[0m \u001b[0mvcf_file\u001b[0m \u001b[1;33m=\u001b[0m \u001b[0mpysam\u001b[0m\u001b[1;33m.\u001b[0m\u001b[0mVariantFile\u001b[0m\u001b[1;33m(\u001b[0m\u001b[1;34m\"chr16.vcf\"\u001b[0m\u001b[1;33m)\u001b[0m\u001b[1;33m\u001b[0m\u001b[1;33m\u001b[0m\u001b[0m\n\u001b[0;32m      5\u001b[0m \u001b[1;33m\u001b[0m\u001b[0m\n",
      "\u001b[1;31mModuleNotFoundError\u001b[0m: No module named 'pysam'"
     ]
    }
   ],
   "source": [
    "import pysam\n",
    "\n",
    "# Open the VCF file for reading\n",
    "vcf_file = pysam.VariantFile(\"chr16.vcf\")\n",
    "\n",
    "# Create a file for heterozygosity output\n",
    "het_file = open(\"chr16_heterozygosity.txt\", \"w\")\n",
    "het_file.write(\"Sample\\tHeterozygosity\\n\")\n",
    "\n",
    "# Create a file for allele frequency output\n",
    "af_file = open(\"chr16_allele_frequencies.txt\", \"w\")\n",
    "af_file.write(\"Sample\\tLocus\\tRef Allele\\tAlt Allele\\tRef Freq\\tAlt Freq\\n\")\n",
    "\n",
    "# Iterate over each sample in the VCF file\n",
    "for sample in vcf_file.header.samples:\n",
    "    # Initialize counts for heterozygous and total loci\n",
    "    het_count = 0\n",
    "    total_count = 0\n",
    "\n",
    "    # Initialize a dictionary to store allele frequencies\n",
    "    allele_freqs = {}\n",
    "\n",
    "    # Iterate over each record (locus) in the VCF file\n",
    "    for record in vcf_file:\n",
    "        # Get the allele counts for the sample at the current locus\n",
    "        sample_alleles = record.samples[sample][\"GT\"]\n",
    "        if sample_alleles is None or \".\" in sample_alleles:\n",
    "            continue\n",
    "        \n",
    "        allele_counts = [int(x) for x in sample_alleles.split(\"/\") if x != \".\"]\n",
    "        if len(set(allele_counts)) > 1:\n",
    "            het_count += 1\n",
    "\n",
    "        total_count += 1\n",
    "\n",
    "        # Update the allele frequencies for the current locus\n",
    "        ref_allele = record.ref\n",
    "        alt_alleles = record.alts\n",
    "        for alt_allele in alt_alleles:\n",
    "            if (ref_allele, alt_allele) not in allele_freqs:\n",
    "                allele_freqs[(ref_allele, alt_allele)] = [0, 0]\n",
    "            if allele_counts[0] == 0:\n",
    "                allele_freqs[(ref_allele, alt_allele)][0] += 1\n",
    "            elif allele_counts[0] == 1:\n",
    "                allele_freqs[(ref_allele, alt_allele)][1] += 1\n",
    "\n",
    "    # Compute heterozygosity as the fraction of loci with more than one allele\n",
    "    heterozygosity = het_count / total_count\n",
    "\n",
    "    # Write heterozygosity to the output file\n",
    "    het_file.write(f\"{sample}\\t{heterozygosity:.4f}\\n\")\n",
    "\n",
    "    # Write allele frequencies to the output file\n",
    "    for (ref_allele, alt_allele), (ref_count, alt_count) in allele_freqs.items():\n",
    "        total_alleles = ref_count + alt_count\n",
    "        if total_alleles == 0:\n",
    "            ref_freq = 0\n",
    "            alt_freq = 0\n",
    "        else:\n",
    "            ref_freq = ref_count / total_alleles\n",
    "            alt_freq = alt_count / total_alleles\n",
    "        af_file.write(f\"{sample}\\t{ref_allele}>{alt_allele}\\t{ref_allele}\\t{alt_allele}\\t{ref_freq:.4f}\\t{alt_freq:.4f}\\n\")\n",
    "\n",
    "# Close the output files\n",
    "het_file.close()\n",
    "af_file.close()\n"
   ]
  },
  {
   "cell_type": "code",
   "execution_count": 4,
   "id": "a3e0baef",
   "metadata": {},
   "outputs": [
    {
     "name": "stdout",
     "output_type": "stream",
     "text": [
      "Collecting pysam\n",
      "  Using cached pysam-0.20.0.tar.gz (4.0 MB)\n",
      "  Preparing metadata (setup.py): started\n",
      "  Preparing metadata (setup.py): finished with status 'error'\n",
      "Note: you may need to restart the kernel to use updated packages.\n"
     ]
    },
    {
     "name": "stderr",
     "output_type": "stream",
     "text": [
      "  error: subprocess-exited-with-error\n",
      "  \n",
      "  python setup.py egg_info did not run successfully.\n",
      "  exit code: 1\n",
      "  \n",
      "  [24 lines of output]\n",
      "  # pysam: cython is available - using cythonize if necessary\n",
      "  # pysam: htslib mode is shared\n",
      "  # pysam: HTSLIB_CONFIGURE_OPTIONS=None\n",
      "  '.' is not recognized as an internal or external command,\n",
      "  operable program or batch file.\n",
      "  '.' is not recognized as an internal or external command,\n",
      "  operable program or batch file.\n",
      "  Traceback (most recent call last):\n",
      "    File \"<string>\", line 2, in <module>\n",
      "    File \"<pip-setuptools-caller>\", line 34, in <module>\n",
      "    File \"C:\\Users\\yolo\\AppData\\Local\\Temp\\pip-install-sbslcctp\\pysam_0f2275897d3a424f872ac0b8ab143b49\\setup.py\", line 381, in <module>\n",
      "      htslib_make_options = run_make_print_config()\n",
      "    File \"C:\\Users\\yolo\\AppData\\Local\\Temp\\pip-install-sbslcctp\\pysam_0f2275897d3a424f872ac0b8ab143b49\\setup.py\", line 79, in run_make_print_config\n",
      "      stdout = subprocess.check_output([\"make\", \"-s\", \"print-config\"])\n",
      "    File \"C:\\Users\\yolo\\anaconda3\\lib\\subprocess.py\", line 415, in check_output\n",
      "      return run(*popenargs, stdout=PIPE, timeout=timeout, check=True,\n",
      "    File \"C:\\Users\\yolo\\anaconda3\\lib\\subprocess.py\", line 493, in run\n",
      "      with Popen(*popenargs, **kwargs) as process:\n",
      "    File \"C:\\Users\\yolo\\anaconda3\\lib\\subprocess.py\", line 858, in __init__\n",
      "      self._execute_child(args, executable, preexec_fn, close_fds,\n",
      "    File \"C:\\Users\\yolo\\anaconda3\\lib\\subprocess.py\", line 1311, in _execute_child\n",
      "      hp, ht, pid, tid = _winapi.CreateProcess(executable, args,\n",
      "  FileNotFoundError: [WinError 2] The system cannot find the file specified\n",
      "  # pysam: htslib configure options: None\n",
      "  [end of output]\n",
      "  \n",
      "  note: This error originates from a subprocess, and is likely not a problem with pip.\n",
      "error: metadata-generation-failed\n",
      "\n",
      "Encountered error while generating package metadata.\n",
      "\n",
      "See above for output.\n",
      "\n",
      "note: This is an issue with the package mentioned above, not pip.\n",
      "hint: See above for details.\n"
     ]
    }
   ],
   "source": [
    "pip install pysam"
   ]
  },
  {
   "cell_type": "code",
   "execution_count": null,
   "id": "d2740362",
   "metadata": {},
   "outputs": [],
   "source": []
  },
  {
   "cell_type": "code",
   "execution_count": null,
   "id": "af0a8e37",
   "metadata": {},
   "outputs": [],
   "source": []
  },
  {
   "cell_type": "code",
   "execution_count": null,
   "id": "7899c50e",
   "metadata": {},
   "outputs": [],
   "source": []
  }
 ],
 "metadata": {
  "kernelspec": {
   "display_name": "Python 3",
   "language": "python",
   "name": "python3"
  },
  "language_info": {
   "codemirror_mode": {
    "name": "ipython",
    "version": 3
   },
   "file_extension": ".py",
   "mimetype": "text/x-python",
   "name": "python",
   "nbconvert_exporter": "python",
   "pygments_lexer": "ipython3",
   "version": "3.8.8"
  }
 },
 "nbformat": 4,
 "nbformat_minor": 5
}
